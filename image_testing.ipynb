{
 "cells": [
  {
   "cell_type": "markdown",
   "metadata": {},
   "source": [
    "### Libraries"
   ]
  },
  {
   "cell_type": "code",
   "execution_count": 3,
   "metadata": {},
   "outputs": [],
   "source": [
    "import cv2\n",
    "import numpy as np\n",
    "import glob\n",
    "import os\n",
    "import matplotlib.pyplot as plt\n",
    "from zipfile import ZipFile\n",
    "from io import BytesIO\n",
    "from PIL import Image"
   ]
  },
  {
   "cell_type": "code",
   "execution_count": 52,
   "metadata": {},
   "outputs": [],
   "source": [
    "# higher_images = '/mnt/f/datasets/SR_training_datasets/DIV2K/DIV2K_train_HR.zip'\n",
    "# lower_images = '/mnt/f/datasets/SR_training_datasets/DIV2K/DIV2K_train_LR_bicubic_X4.zip'\n",
    "\n",
    "higher_images = '/mnt/f/datasets/SR_training_datasets/DIV2K/DIV2K_valid_HR.zip'\n",
    "lower_images = '/mnt/f/datasets/SR_training_datasets/DIV2K/DIV2K_valid_LR_bicubic_X4.zip'"
   ]
  },
  {
   "cell_type": "code",
   "execution_count": 53,
   "metadata": {},
   "outputs": [
    {
     "name": "stdout",
     "output_type": "stream",
     "text": [
      "101\n",
      "100\n",
      "100\n"
     ]
    }
   ],
   "source": [
    "high_img_shapes = list()\n",
    "\n",
    "with ZipFile(higher_images, 'r') as zip:\n",
    "    high_files = zip.namelist()\n",
    "    print(len(high_files))\n",
    "\n",
    "    high_img_files = [file for file in high_files if file.endswith(('.png', '.jpg', '.jpeg'))]\n",
    "    print(len(high_img_files))\n",
    "\n",
    "    for i in range(len(high_img_files)):\n",
    "        high_data = zip.read(high_img_files[i])\n",
    "        high_img_bytes = BytesIO(high_data)\n",
    "        high_img = Image.open(high_img_bytes)\n",
    "        hw, hh = high_img.size\n",
    "        high_name = os.path.basename(high_img_files[i])[:-4]\n",
    "        info = (high_name, (hw, hh))\n",
    "        high_img_shapes.append(info)\n",
    "\n",
    "    print(len(high_img_shapes))"
   ]
  },
  {
   "cell_type": "code",
   "execution_count": 54,
   "metadata": {},
   "outputs": [
    {
     "name": "stdout",
     "output_type": "stream",
     "text": [
      "101\n",
      "100\n",
      "100\n"
     ]
    }
   ],
   "source": [
    "low_img_shapes = list()\n",
    "\n",
    "with ZipFile(lower_images, 'r') as zip:\n",
    "    low_files = zip.namelist()\n",
    "    print(len(low_files))\n",
    "\n",
    "    low_img_files = [file for file in low_files if file.endswith(('.png', '.jpg', '.jpeg'))]\n",
    "    print(len(low_img_files))\n",
    "\n",
    "    for i in range(len(low_img_files)):\n",
    "        low_data = zip.read(low_img_files[i])\n",
    "        low_img_bytes = BytesIO(low_data)\n",
    "        low_img = Image.open(low_img_bytes)\n",
    "        lw, lh = low_img.size\n",
    "        low_name = os.path.basename(low_img_files[i])[:-6]\n",
    "        info = (low_name, (lw, lh))\n",
    "        low_img_shapes.append(info)\n",
    "\n",
    "    print(len(low_img_shapes))"
   ]
  },
  {
   "cell_type": "code",
   "execution_count": 55,
   "metadata": {},
   "outputs": [
    {
     "data": {
      "text/plain": [
       "'0810'"
      ]
     },
     "execution_count": 55,
     "metadata": {},
     "output_type": "execute_result"
    }
   ],
   "source": [
    "os.path.basename(low_img_files[0])[:-6]"
   ]
  },
  {
   "cell_type": "code",
   "execution_count": 56,
   "metadata": {},
   "outputs": [
    {
     "data": {
      "text/plain": [
       "'0897'"
      ]
     },
     "execution_count": 56,
     "metadata": {},
     "output_type": "execute_result"
    }
   ],
   "source": [
    "os.path.basename(high_img_files[0])[:-4]"
   ]
  },
  {
   "cell_type": "code",
   "execution_count": 57,
   "metadata": {},
   "outputs": [],
   "source": [
    "# low_img_shapes"
   ]
  },
  {
   "cell_type": "code",
   "execution_count": 58,
   "metadata": {},
   "outputs": [],
   "source": [
    "# high_img_shapes"
   ]
  },
  {
   "cell_type": "code",
   "execution_count": 59,
   "metadata": {},
   "outputs": [
    {
     "name": "stdout",
     "output_type": "stream",
     "text": [
      "[]\n"
     ]
    }
   ],
   "source": [
    "mismatch = list()\n",
    "\n",
    "for high in high_img_shapes:\n",
    "    for low in low_img_shapes:\n",
    "        if high[0] == low[0]:\n",
    "            if high[1][0]/4 == low[1][0]:\n",
    "                if high[1][1]/4 == low[1][1]:\n",
    "                    continue\n",
    "                else:\n",
    "                    info = (high, low)\n",
    "                    mismatch.appened(info)\n",
    "\n",
    "print(mismatch)"
   ]
  },
  {
   "cell_type": "code",
   "execution_count": null,
   "metadata": {},
   "outputs": [],
   "source": []
  }
 ],
 "metadata": {
  "kernelspec": {
   "display_name": "torchenv",
   "language": "python",
   "name": "python3"
  },
  "language_info": {
   "codemirror_mode": {
    "name": "ipython",
    "version": 3
   },
   "file_extension": ".py",
   "mimetype": "text/x-python",
   "name": "python",
   "nbconvert_exporter": "python",
   "pygments_lexer": "ipython3",
   "version": "3.8.18"
  }
 },
 "nbformat": 4,
 "nbformat_minor": 2
}
