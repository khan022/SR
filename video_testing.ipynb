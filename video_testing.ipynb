{
 "cells": [
  {
   "cell_type": "code",
   "execution_count": 1,
   "metadata": {},
   "outputs": [],
   "source": [
    "from model import *"
   ]
  },
  {
   "cell_type": "code",
   "execution_count": 2,
   "metadata": {},
   "outputs": [
    {
     "name": "stdout",
     "output_type": "stream",
     "text": [
      "1 GPUs available\n"
     ]
    },
    {
     "data": {
      "text/plain": [
       "DataParallel(\n",
       "  (module): MyModel(\n",
       "    (conv1): Conv2d(3, 64, kernel_size=(3, 3), stride=(1, 1), dilation=(2, 2))\n",
       "    (conv2): Conv2d(64, 32, kernel_size=(1, 1), stride=(1, 1), dilation=(4, 4))\n",
       "    (conv3): Conv2d(32, 64, kernel_size=(1, 1), stride=(1, 1), dilation=(16, 16))\n",
       "    (den_inp): Conv2d(64, 3, kernel_size=(1, 1), stride=(1, 1))\n",
       "    (den): Den(\n",
       "      (conv1): Conv2d(3, 64, kernel_size=(5, 5), stride=(1, 1), padding=(2, 2))\n",
       "      (conv2): Conv2d(64, 64, kernel_size=(3, 3), stride=(1, 1), padding=(1, 1))\n",
       "      (conv3): Conv2d(64, 64, kernel_size=(1, 1), stride=(1, 1))\n",
       "      (actc): ACTC(\n",
       "        (conv1): Conv2d(64, 7, kernel_size=(3, 3), stride=(1, 1), padding=(1, 1))\n",
       "        (conv2): Conv2d(64, 7, kernel_size=(5, 5), stride=(1, 1), padding=(2, 2))\n",
       "        (conv3): Conv2d(64, 7, kernel_size=(7, 7), stride=(1, 1), padding=(3, 3))\n",
       "        (conv4): Conv2d(21, 3, kernel_size=(3, 3), stride=(1, 1), padding=(1, 1))\n",
       "      )\n",
       "      (mdr_inp): Conv2d(64, 3, kernel_size=(1, 1), stride=(1, 1))\n",
       "      (mdsr1): MDSR1(\n",
       "        (conv1): Conv2d(3, 32, kernel_size=(3, 3), stride=(1, 1), padding=(1, 1))\n",
       "        (r1): R1(\n",
       "          (conv1): Conv2d(32, 32, kernel_size=(3, 3), stride=(1, 1), padding=(1, 1))\n",
       "          (conv2): Conv2d(32, 32, kernel_size=(3, 3), stride=(1, 1), padding=(1, 1))\n",
       "        )\n",
       "        (conv2): Conv2d(128, 3, kernel_size=(3, 3), stride=(1, 1), padding=(1, 1))\n",
       "      )\n",
       "      (rdn_inp): Conv2d(64, 128, kernel_size=(1, 1), stride=(1, 1))\n",
       "      (rdn): RDN(\n",
       "        (conv1): Conv2d(128, 128, kernel_size=(3, 3), stride=(1, 1), padding=(1, 1))\n",
       "        (conv2): Conv2d(128, 128, kernel_size=(3, 3), stride=(1, 1), padding=(1, 1))\n",
       "        (conv3): Conv2d(128, 128, kernel_size=(3, 3), stride=(1, 1), padding=(1, 1))\n",
       "        (conv4): Conv2d(128, 128, kernel_size=(3, 3), stride=(1, 1), padding=(1, 1))\n",
       "        (conv5): Conv2d(384, 32, kernel_size=(3, 3), stride=(1, 1), padding=(1, 1))\n",
       "      )\n",
       "      (conv4): Conv2d(102, 3, kernel_size=(3, 3), stride=(1, 1), padding=(2, 2), dilation=(2, 2))\n",
       "    )\n",
       "    (runt_inp): Conv2d(64, 16, kernel_size=(1, 1), stride=(1, 1))\n",
       "    (runt): Runt(\n",
       "      (conv1): Conv2d(16, 16, kernel_size=(3, 3), stride=(1, 1), padding=(1, 1))\n",
       "      (conv2): Conv2d(16, 16, kernel_size=(3, 3), stride=(1, 1), padding=(1, 1))\n",
       "      (conv3): Conv2d(16, 8, kernel_size=(3, 3), stride=(1, 1), padding=(1, 1))\n",
       "      (conv4): Conv2d(8, 8, kernel_size=(5, 5), stride=(1, 1), padding=(2, 2))\n",
       "      (conv5): Conv2d(8, 4, kernel_size=(3, 3), stride=(1, 1), padding=(1, 1))\n",
       "      (conv6): Conv2d(4, 4, kernel_size=(5, 5), stride=(1, 1), padding=(2, 2))\n",
       "      (conv7): Conv2d(4, 2, kernel_size=(3, 3), stride=(1, 1), padding=(1, 1))\n",
       "      (conv8): Conv2d(2, 2, kernel_size=(5, 5), stride=(1, 1), padding=(2, 2))\n",
       "      (conv9): Conv2d(2, 2, kernel_size=(1, 1), stride=(1, 1))\n",
       "      (conv10): Conv2d(4, 4, kernel_size=(1, 1), stride=(1, 1))\n",
       "      (conv11): Conv2d(8, 8, kernel_size=(1, 1), stride=(1, 1))\n",
       "      (conv12): Conv2d(16, 16, kernel_size=(1, 1), stride=(1, 1))\n",
       "      (conv13): Conv2d(16, 3, kernel_size=(1, 1), stride=(1, 1))\n",
       "    )\n",
       "    (conv4): Conv2d(6, 3, kernel_size=(1, 1), stride=(1, 1), padding=(1, 1), dilation=(8, 8))\n",
       "    (runt_inp2): Conv2d(3, 32, kernel_size=(1, 1), stride=(1, 1))\n",
       "    (runt2): Runt(\n",
       "      (conv1): Conv2d(32, 32, kernel_size=(3, 3), stride=(1, 1), padding=(1, 1))\n",
       "      (conv2): Conv2d(32, 32, kernel_size=(3, 3), stride=(1, 1), padding=(1, 1))\n",
       "      (conv3): Conv2d(32, 16, kernel_size=(3, 3), stride=(1, 1), padding=(1, 1))\n",
       "      (conv4): Conv2d(16, 16, kernel_size=(5, 5), stride=(1, 1), padding=(2, 2))\n",
       "      (conv5): Conv2d(16, 8, kernel_size=(3, 3), stride=(1, 1), padding=(1, 1))\n",
       "      (conv6): Conv2d(8, 8, kernel_size=(5, 5), stride=(1, 1), padding=(2, 2))\n",
       "      (conv7): Conv2d(8, 4, kernel_size=(3, 3), stride=(1, 1), padding=(1, 1))\n",
       "      (conv8): Conv2d(4, 4, kernel_size=(5, 5), stride=(1, 1), padding=(2, 2))\n",
       "      (conv9): Conv2d(4, 4, kernel_size=(1, 1), stride=(1, 1))\n",
       "      (conv10): Conv2d(8, 8, kernel_size=(1, 1), stride=(1, 1))\n",
       "      (conv11): Conv2d(16, 16, kernel_size=(1, 1), stride=(1, 1))\n",
       "      (conv12): Conv2d(32, 32, kernel_size=(1, 1), stride=(1, 1))\n",
       "      (conv13): Conv2d(32, 3, kernel_size=(1, 1), stride=(1, 1))\n",
       "    )\n",
       "    (conv5): Conv2d(6, 3, kernel_size=(1, 1), stride=(1, 1), padding=(1, 1), dilation=(8, 8))\n",
       "  )\n",
       ")"
      ]
     },
     "execution_count": 2,
     "metadata": {},
     "output_type": "execute_result"
    }
   ],
   "source": [
    "model = MyModel()\n",
    "\n",
    "if torch.cuda.is_available():\n",
    "    device = torch.device('cuda')  # Default CUDA device\n",
    "    num_gpus = torch.cuda.device_count()\n",
    "    print(f'{num_gpus} GPUs available')\n",
    "\n",
    "    model = nn.DataParallel(model)  # Use multiple GPUs\n",
    "    model.to(device)\n",
    "else:\n",
    "    print('CUDA is not available.')\n",
    "\n",
    "model.eval() "
   ]
  },
  {
   "cell_type": "code",
   "execution_count": 3,
   "metadata": {},
   "outputs": [],
   "source": [
    "def get_transform():\n",
    "    return Compose([\n",
    "        ToTensor(),\n",
    "        Normalize(mean=[0.485, 0.456, 0.406], std=[0.229, 0.224, 0.225])\n",
    "    ])\n",
    "\n",
    "trans = get_transform()"
   ]
  },
  {
   "cell_type": "code",
   "execution_count": 4,
   "metadata": {},
   "outputs": [],
   "source": [
    "def tensor_to_image(tensor):\n",
    "    tensor = tensor.cuda()\n",
    "\n",
    "    # Define the mean and std\n",
    "    mean = torch.tensor([0.485, 0.456, 0.406]).view(3, 1, 1)\n",
    "    std = torch.tensor([0.229, 0.224, 0.225]).view(3, 1, 1)\n",
    "\n",
    "    # Unnormalize the tensor\n",
    "    std = std.cuda()\n",
    "    mean = mean.cuda()\n",
    "    tensor = tensor * std + mean\n",
    "\n",
    "    # Clamp the values in the tensor to the range [0, 1]\n",
    "    tensor = torch.clamp(tensor, 0, 1)\n",
    "\n",
    "    # Convert the tensor to a PIL Image and then convert it to a numpy array\n",
    "    image = transforms.ToPILImage()(tensor).convert(\"RGB\")\n",
    "    \n",
    "    return image"
   ]
  },
  {
   "cell_type": "code",
   "execution_count": 5,
   "metadata": {},
   "outputs": [],
   "source": [
    "# Read the video file\n",
    "cap = cv2.VideoCapture('/mnt/e/codes_works/super_resolution/videos/input.mp4')\n",
    "\n",
    "# Create a Pillow Image object to store each frame\n",
    "im = None\n",
    "frames = list()\n",
    "\n",
    "while(True):\n",
    "    # Capture frame-by-frame\n",
    "    ret, frame = cap.read()\n",
    "\n",
    "    # If the frame is empty, break the loop\n",
    "    if not ret:\n",
    "        break\n",
    "\n",
    "    # Convert the frame to Pillow format\n",
    "    im = Image.fromarray(cv2.cvtColor(frame, cv2.COLOR_BGR2RGB))\n",
    "\n",
    "    test = trans(im)\n",
    "    test = test.unsqueeze(0)\n",
    "    test = test.cuda()\n",
    "\n",
    "    out = model(test)\n",
    "\n",
    "    img = tensor_to_image(out[0])\n",
    "\n",
    "    frames.append(img)"
   ]
  },
  {
   "cell_type": "code",
   "execution_count": null,
   "metadata": {},
   "outputs": [],
   "source": [
    "# Get the width and height of each frame\n",
    "widths = []\n",
    "heights = []\n",
    "for i, frame in enumerate(frames):\n",
    "    widths.append(frame.size[0])\n",
    "    heights.append(frame.size[1])\n",
    "\n",
    "# Use the largest width and height as the resolution of the output video\n",
    "width = max(widths)\n",
    "height = max(heights)\n",
    "fps = int(cap.get(5))\n",
    "\n",
    "cap.release()\n",
    "\n",
    "out = cv2.VideoWriter('/mnt/e/codes_works/super_resolution/videos/output.mp4', cv2.VideoWriter_fourcc(*'XVID'), fps, (width, height))\n",
    "\n",
    "# Write the frames to the video file\n",
    "for i, frame in enumerate(frames):\n",
    "    out.write(frame)\n",
    "\n",
    "# Release the VideoWriter object\n",
    "out.release()"
   ]
  },
  {
   "cell_type": "code",
   "execution_count": null,
   "metadata": {},
   "outputs": [],
   "source": []
  }
 ],
 "metadata": {
  "kernelspec": {
   "display_name": "torchenv",
   "language": "python",
   "name": "python3"
  },
  "language_info": {
   "codemirror_mode": {
    "name": "ipython",
    "version": 3
   },
   "file_extension": ".py",
   "mimetype": "text/x-python",
   "name": "python",
   "nbconvert_exporter": "python",
   "pygments_lexer": "ipython3",
   "version": "3.8.18"
  }
 },
 "nbformat": 4,
 "nbformat_minor": 2
}
