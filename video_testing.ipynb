{
 "cells": [
  {
   "cell_type": "markdown",
   "metadata": {},
   "source": [
    "#### Loading everything from the model.py file "
   ]
  },
  {
   "cell_type": "code",
   "execution_count": 1,
   "metadata": {},
   "outputs": [],
   "source": [
    "from model import * \n",
    "### every module is accessible here."
   ]
  },
  {
   "cell_type": "markdown",
   "metadata": {},
   "source": [
    "#### Loading the Model from the model file"
   ]
  },
  {
   "cell_type": "code",
   "execution_count": 2,
   "metadata": {},
   "outputs": [
    {
     "name": "stdout",
     "output_type": "stream",
     "text": [
      "1 GPUs available\n"
     ]
    },
    {
     "data": {
      "text/plain": [
       "<All keys matched successfully>"
      ]
     },
     "execution_count": 2,
     "metadata": {},
     "output_type": "execute_result"
    }
   ],
   "source": [
    "model = MyModel()\n",
    "\n",
    "if torch.cuda.is_available():\n",
    "    device = torch.device('cuda')  # Default CUDA device\n",
    "    num_gpus = torch.cuda.device_count()\n",
    "    print(f'{num_gpus} GPUs available')\n",
    "\n",
    "    model = nn.DataParallel(model)  # Use multiple GPUs\n",
    "    model.to(device)\n",
    "else:\n",
    "    print('CUDA is not available.')\n",
    "\n",
    "model.eval() \n",
    "\n",
    "weights_path = '/mnt/e/codes_works/super_resolution/weights/modelvcu_epoch_48_val_loss_0.05541.pth' \n",
    "\n",
    "# Load the weights into the model\n",
    "model.load_state_dict(torch.load(weights_path))"
   ]
  },
  {
   "cell_type": "markdown",
   "metadata": {},
   "source": [
    "#### Transform function to ready the frame for the model "
   ]
  },
  {
   "cell_type": "code",
   "execution_count": 3,
   "metadata": {},
   "outputs": [],
   "source": [
    "def get_transform():\n",
    "    return Compose([\n",
    "        ToTensor(),\n",
    "        Normalize(mean=[0.485, 0.456, 0.406], std=[0.229, 0.224, 0.225])\n",
    "    ])\n",
    "\n",
    "trans = get_transform()"
   ]
  },
  {
   "cell_type": "markdown",
   "metadata": {},
   "source": [
    "#### Function for tensor to pillow image conversion"
   ]
  },
  {
   "cell_type": "code",
   "execution_count": 4,
   "metadata": {},
   "outputs": [],
   "source": [
    "def tensor_to_image(tensor):\n",
    "    tensor = tensor.cuda()\n",
    "\n",
    "    # Define the mean and std\n",
    "    mean = torch.tensor([0.485, 0.456, 0.406]).view(3, 1, 1)\n",
    "    std = torch.tensor([0.229, 0.224, 0.225]).view(3, 1, 1)\n",
    "\n",
    "    # Unnormalize the tensor\n",
    "    std = std.cuda()\n",
    "    mean = mean.cuda()\n",
    "    tensor = tensor * std + mean\n",
    "\n",
    "    # Clamp the values in the tensor to the range [0, 1]\n",
    "    tensor = torch.clamp(tensor, 0, 1)\n",
    "\n",
    "    # Convert the tensor to a PIL Image and then convert it to a numpy array\n",
    "    image = transforms.ToPILImage()(tensor).convert(\"RGB\")\n",
    "    \n",
    "    return image"
   ]
  },
  {
   "cell_type": "markdown",
   "metadata": {},
   "source": [
    "#### Breaking up the video into frames"
   ]
  },
  {
   "cell_type": "code",
   "execution_count": 5,
   "metadata": {},
   "outputs": [],
   "source": [
    "# Read the video file\n",
    "cap = cv2.VideoCapture('/mnt/e/codes_works/super_resolution/videos/test_input.mp4')\n",
    "\n",
    "# Create a Pillow Image object to store each frame\n",
    "im = None\n",
    "frames = list()\n",
    "\n",
    "while(True):\n",
    "    # Capture frame-by-frame\n",
    "    ret, frame = cap.read()\n",
    "\n",
    "    # If the frame is empty, break the loop\n",
    "    if not ret:\n",
    "        break\n",
    "\n",
    "    # Convert the frame to Pillow format\n",
    "    im = Image.fromarray(cv2.cvtColor(frame, cv2.COLOR_BGR2RGB))\n",
    "\n",
    "    test = trans(im)\n",
    "    test = test.unsqueeze(0)\n",
    "    test = test.cuda()\n",
    "\n",
    "    out = model(test)\n",
    "\n",
    "    img = tensor_to_image(out[0])\n",
    "\n",
    "    frames.append(img)"
   ]
  },
  {
   "cell_type": "markdown",
   "metadata": {},
   "source": [
    "#### Reconstructing the Upscaled images into a video"
   ]
  },
  {
   "cell_type": "code",
   "execution_count": 11,
   "metadata": {},
   "outputs": [
    {
     "name": "stderr",
     "output_type": "stream",
     "text": [
      "OpenCV: FFMPEG: tag 0x44495658/'XVID' is not supported with codec id 12 and format 'mp4 / MP4 (MPEG-4 Part 14)'\n",
      "OpenCV: FFMPEG: fallback to use tag 0x7634706d/'mp4v'\n"
     ]
    }
   ],
   "source": [
    "# Get the width and height of each frame\n",
    "widths = []\n",
    "heights = []\n",
    "for i, fr in enumerate(frames):\n",
    "    widths.append(fr.size[0])\n",
    "    heights.append(fr.size[1])\n",
    "\n",
    "# Use the largest width and height as the resolution of the output video\n",
    "width = max(widths)\n",
    "height = max(heights)\n",
    "fps = 30\n",
    "\n",
    "# cap.release()\n",
    "\n",
    "out = cv2.VideoWriter('/mnt/e/codes_works/super_resolution/videos/test_output.mp4', cv2.VideoWriter_fourcc(*'XVID'), fps, (width, height))\n",
    "\n",
    "# Write the frames to the video file\n",
    "for i, fram in enumerate(frames):\n",
    "    # Convert the PIL Image to a numpy array\n",
    "    fram = np.array(fram)\n",
    "    # OpenCV uses BGR color format, so we need to convert from RGB to BGR\n",
    "    fram = cv2.cvtColor(fram, cv2.COLOR_RGB2BGR)\n",
    "    out.write(fram)\n",
    "\n",
    "# Release the VideoWriter object\n",
    "out.release()"
   ]
  },
  {
   "cell_type": "code",
   "execution_count": null,
   "metadata": {},
   "outputs": [],
   "source": []
  }
 ],
 "metadata": {
  "kernelspec": {
   "display_name": "torchenv",
   "language": "python",
   "name": "python3"
  },
  "language_info": {
   "codemirror_mode": {
    "name": "ipython",
    "version": 3
   },
   "file_extension": ".py",
   "mimetype": "text/x-python",
   "name": "python",
   "nbconvert_exporter": "python",
   "pygments_lexer": "ipython3",
   "version": "3.8.18"
  }
 },
 "nbformat": 4,
 "nbformat_minor": 2
}
